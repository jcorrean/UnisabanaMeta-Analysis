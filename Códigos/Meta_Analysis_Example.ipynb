{
  "nbformat": 4,
  "nbformat_minor": 0,
  "metadata": {
    "colab": {
      "provenance": [],
      "authorship_tag": "ABX9TyNGvuKJdIp276hrK/5mc5/W",
      "include_colab_link": true
    },
    "kernelspec": {
      "name": "python3",
      "display_name": "Python 3"
    },
    "language_info": {
      "name": "python"
    }
  },
  "cells": [
    {
      "cell_type": "markdown",
      "metadata": {
        "id": "view-in-github",
        "colab_type": "text"
      },
      "source": [
        "<a href=\"https://colab.research.google.com/github/jcorrean/UnisabanaMetaAnalysis/blob/main/Meta_Analysis_Example.ipynb\" target=\"_parent\"><img src=\"https://colab.research.google.com/assets/colab-badge.svg\" alt=\"Open In Colab\"/></a>"
      ]
    },
    {
      "cell_type": "code",
      "execution_count": null,
      "metadata": {
        "colab": {
          "base_uri": "https://localhost:8080/"
        },
        "id": "UecvC7owcQLo",
        "outputId": "4d07c81e-814d-4979-fb0e-13ca3e34da0c"
      },
      "outputs": [
        {
          "output_type": "stream",
          "name": "stdout",
          "text": [
            "Collecting pymare\n",
            "  Downloading PyMARE-0.0.3-py3-none-any.whl (30 kB)\n",
            "Requirement already satisfied: numpy>=1.8.0 in /usr/local/lib/python3.10/dist-packages (from pymare) (1.25.2)\n",
            "Requirement already satisfied: pandas in /usr/local/lib/python3.10/dist-packages (from pymare) (1.5.3)\n",
            "Requirement already satisfied: scipy in /usr/local/lib/python3.10/dist-packages (from pymare) (1.11.4)\n",
            "Requirement already satisfied: sympy in /usr/local/lib/python3.10/dist-packages (from pymare) (1.12)\n",
            "Requirement already satisfied: wrapt in /usr/local/lib/python3.10/dist-packages (from pymare) (1.14.1)\n",
            "Requirement already satisfied: python-dateutil>=2.8.1 in /usr/local/lib/python3.10/dist-packages (from pandas->pymare) (2.8.2)\n",
            "Requirement already satisfied: pytz>=2020.1 in /usr/local/lib/python3.10/dist-packages (from pandas->pymare) (2023.4)\n",
            "Requirement already satisfied: mpmath>=0.19 in /usr/local/lib/python3.10/dist-packages (from sympy->pymare) (1.3.0)\n",
            "Requirement already satisfied: six>=1.5 in /usr/local/lib/python3.10/dist-packages (from python-dateutil>=2.8.1->pandas->pymare) (1.16.0)\n",
            "Installing collected packages: pymare\n",
            "Successfully installed pymare-0.0.3\n"
          ]
        }
      ],
      "source": [
        "pip install pymare"
      ]
    },
    {
      "cell_type": "code",
      "source": [
        "import numpy as np"
      ],
      "metadata": {
        "id": "16CNm-0Pcr2Z"
      },
      "execution_count": 3,
      "outputs": []
    },
    {
      "cell_type": "code",
      "source": [
        "y = np.array([-1, 0.5, 0.5, 0.5, 1, 1, 2, 10]) # study-level estimates\n",
        "v = np.array([1, 1, 2.4, 0.5, 1, 1, 1.2, 1.5]) # study-level variances\n",
        "X = np.array([1, 1, 2, 2, 4, 4, 2.8, 2.8]) # a fixed study-level covariate"
      ],
      "metadata": {
        "id": "cLL0sCwScpIa"
      },
      "execution_count": 4,
      "outputs": []
    },
    {
      "cell_type": "code",
      "source": [
        "from pymare import meta_regression\n",
        "\n",
        "result = meta_regression(y, v, X, add_intercept=True,\n",
        "                         method='REML')\n",
        "print(result.to_df())"
      ],
      "metadata": {
        "colab": {
          "base_uri": "https://localhost:8080/"
        },
        "id": "oi2C_nO-dDwr",
        "outputId": "0754b970-b482-4185-c3f8-f265c091009e"
      },
      "execution_count": 6,
      "outputs": [
        {
          "output_type": "stream",
          "name": "stdout",
          "text": [
            "        name  estimate        se   z-score   p-value  ci_0.025  ci_0.975\n",
            "0  intercept -0.106573  2.993715 -0.035599  0.971602 -5.974147  5.761001\n",
            "1          0  0.769951  1.113344  0.691566  0.489210 -1.412164  2.952065\n"
          ]
        }
      ]
    }
  ]
}